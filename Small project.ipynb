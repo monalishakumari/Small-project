{
 "cells": [
  {
   "cell_type": "markdown",
   "id": "9f0a0482",
   "metadata": {},
   "source": [
    "# Beginner project using Python"
   ]
  },
  {
   "cell_type": "markdown",
   "id": "9c8fdac7",
   "metadata": {},
   "source": [
    "## 1.Create short form of word"
   ]
  },
  {
   "cell_type": "code",
   "execution_count": 1,
   "id": "72eeb73b",
   "metadata": {},
   "outputs": [
    {
     "name": "stdout",
     "output_type": "stream",
     "text": [
      "Enter your word: Natural processing language\n",
      " NPL\n"
     ]
    }
   ],
   "source": [
    "Enter_input=str(input(\"Enter your word: \")) # User input in string format\n",
    "\n",
    "text= Enter_input.split() # Split function used for splitting your word \n",
    "\n",
    "x=\" \" # variable 'x' to store the short form of word\n",
    "\n",
    "for i in text:    # Running the loop over the text after splitting your input   \n",
    "    x= x+str(i[0]).upper()  ## We are storing the index value of str[0] in uppercase format using upper() function while running loop\n",
    "print(x)"
   ]
  },
  {
   "cell_type": "markdown",
   "id": "81f4a668",
   "metadata": {},
   "source": [
    "## 2. Story teller"
   ]
  },
  {
   "cell_type": "code",
   "execution_count": 2,
   "id": "c1d35866",
   "metadata": {},
   "outputs": [],
   "source": [
    "# Generate random module to generate random stories\n",
    "\n",
    "import random"
   ]
  },
  {
   "cell_type": "code",
   "execution_count": 3,
   "id": "5408f417",
   "metadata": {},
   "outputs": [
    {
     "name": "stdout",
     "output_type": "stream",
     "text": [
      "Yesterday morning,Ishita that lived in India, went to the library and found a book.\n"
     ]
    }
   ],
   "source": [
    "time = ['Yesterday','Tomorrow','Yesterday morning','On 12th March']\n",
    "name = ['Mona','Shaby','Aarna','Ishita']\n",
    "residence=['Australia','India','US','Germany']\n",
    "went=['university','movie theatre','library','school']\n",
    "happened =['made many friends','wrote a book','found a book','read a book']\n",
    "\n",
    "print(random.choice(time) + ',' + random.choice(name) + ' that lived in ' + random.choice(residence) + ', went to the ' + random.choice(went) + ' and ' + random.choice(happened) +'.')\n"
   ]
  },
  {
   "cell_type": "code",
   "execution_count": null,
   "id": "31acdc91",
   "metadata": {},
   "outputs": [],
   "source": []
  },
  {
   "cell_type": "code",
   "execution_count": null,
   "id": "c5301338",
   "metadata": {},
   "outputs": [],
   "source": []
  }
 ],
 "metadata": {
  "kernelspec": {
   "display_name": "Python 3",
   "language": "python",
   "name": "python3"
  },
  "language_info": {
   "codemirror_mode": {
    "name": "ipython",
    "version": 3
   },
   "file_extension": ".py",
   "mimetype": "text/x-python",
   "name": "python",
   "nbconvert_exporter": "python",
   "pygments_lexer": "ipython3",
   "version": "3.8.8"
  }
 },
 "nbformat": 4,
 "nbformat_minor": 5
}
